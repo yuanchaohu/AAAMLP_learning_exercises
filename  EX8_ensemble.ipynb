{
 "cells": [
  {
   "cell_type": "markdown",
   "metadata": {},
   "source": [
    "## ensemble or stacking"
   ]
  },
  {
   "cell_type": "code",
   "execution_count": 1,
   "metadata": {},
   "outputs": [],
   "source": [
    "import numpy as np \n",
    "\n",
    "def mean_predictions(probas):\n",
    "    return np.mean(probas)\n",
    "\n",
    "def max_voting(preds):\n",
    "    idxs = np.argmax(preds, axis=1)\n",
    "    return np.take_along_axis(preds, idxs[:, None], axis=1)"
   ]
  },
  {
   "cell_type": "code",
   "execution_count": 2,
   "metadata": {},
   "outputs": [],
   "source": [
    "def rank_mean(probas):\n",
    "    ranked = []\n",
    "    for i in range(probas.shape[1]):\n",
    "        rank_data = stats.rankdata(probas[:, i])\n",
    "        ranked.append(rank_data)\n",
    "    ranked = np.column_stack(ranked)\n",
    "    return np.mean(rankded, axis=1)"
   ]
  },
  {
   "cell_type": "code",
   "execution_count": null,
   "metadata": {},
   "outputs": [],
   "source": []
  }
 ],
 "metadata": {
  "kernelspec": {
   "display_name": "base",
   "language": "python",
   "name": "python3"
  },
  "language_info": {
   "codemirror_mode": {
    "name": "ipython",
    "version": 3
   },
   "file_extension": ".py",
   "mimetype": "text/x-python",
   "name": "python",
   "nbconvert_exporter": "python",
   "pygments_lexer": "ipython3",
   "version": "3.11.7"
  }
 },
 "nbformat": 4,
 "nbformat_minor": 2
}
