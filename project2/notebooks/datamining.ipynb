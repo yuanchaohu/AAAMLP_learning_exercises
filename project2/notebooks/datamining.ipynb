{
 "cells": [
  {
   "cell_type": "code",
   "execution_count": 1,
   "metadata": {},
   "outputs": [
    {
     "name": "stdout",
     "output_type": "stream",
     "text": [
      "(32561, 15)\n",
      "       age         workclass  fnlwgt     education  education.num  \\\n",
      "1134    40           Private  187164       HS-grad              9   \n",
      "1572    43           Private  208613   Prof-school             15   \n",
      "1686    35           Private  202027     Bachelors             13   \n",
      "1476    25           Private   74883     Bachelors             13   \n",
      "25734   41           Private  185145       HS-grad              9   \n",
      "30223   43  Self-emp-not-inc  116666   Prof-school             15   \n",
      "1739    90         Local-gov  227796       Masters             14   \n",
      "17553   30           Private  173005       HS-grad              9   \n",
      "2776    37           Private  190987  Some-college             10   \n",
      "26052   49      Self-emp-inc  246739  Some-college             10   \n",
      "\n",
      "              marital.status       occupation   relationship  \\\n",
      "1134      Married-civ-spouse  Exec-managerial        Husband   \n",
      "1572   Married-spouse-absent   Prof-specialty  Not-in-family   \n",
      "1686                Divorced  Exec-managerial  Not-in-family   \n",
      "1476           Never-married     Tech-support  Not-in-family   \n",
      "25734     Married-civ-spouse     Tech-support        Husband   \n",
      "30223     Married-civ-spouse   Prof-specialty        Husband   \n",
      "1739      Married-civ-spouse  Exec-managerial        Husband   \n",
      "17553     Married-civ-spouse     Adm-clerical        Husband   \n",
      "2776      Married-civ-spouse            Sales           Wife   \n",
      "26052     Married-civ-spouse     Craft-repair        Husband   \n",
      "\n",
      "                     race     sex  capital.gain  capital.loss  hours.per.week  \\\n",
      "1134                White    Male             0          1672              45   \n",
      "1572                White    Male         99999             0              40   \n",
      "1686                White    Male         27828             0              50   \n",
      "1476   Asian-Pac-Islander  Female             0          1092              40   \n",
      "25734               White    Male             0             0              45   \n",
      "30223               Other    Male             0             0              35   \n",
      "1739                White    Male         20051             0              60   \n",
      "17553               White    Male             0             0              44   \n",
      "2776                White  Female          7298             0              40   \n",
      "26052               White    Male             0             0              45   \n",
      "\n",
      "      native.country income  \n",
      "1134   United-States  <=50K  \n",
      "1572   United-States   >50K  \n",
      "1686   United-States   >50K  \n",
      "1476     Philippines  <=50K  \n",
      "25734              ?   >50K  \n",
      "30223  United-States   >50K  \n",
      "1739   United-States   >50K  \n",
      "17553  United-States  <=50K  \n",
      "2776   United-States   >50K  \n",
      "26052  United-States   >50K  \n"
     ]
    },
    {
     "data": {
      "text/plain": [
       "<=50K    24720\n",
       ">50K      7841\n",
       "Name: income, dtype: int64"
      ]
     },
     "execution_count": 1,
     "metadata": {},
     "output_type": "execute_result"
    }
   ],
   "source": [
    "import pandas as pd \n",
    "\n",
    "df = pd.read_csv(\"../input/adult.csv\")\n",
    "print(df.shape)\n",
    "print(df.sample(10))\n",
    "\n",
    "df.income.value_counts()"
   ]
  },
  {
   "cell_type": "code",
   "execution_count": null,
   "metadata": {},
   "outputs": [],
   "source": []
  }
 ],
 "metadata": {
  "kernelspec": {
   "display_name": "aaamlp",
   "language": "python",
   "name": "python3"
  },
  "language_info": {
   "codemirror_mode": {
    "name": "ipython",
    "version": 3
   },
   "file_extension": ".py",
   "mimetype": "text/x-python",
   "name": "python",
   "nbconvert_exporter": "python",
   "pygments_lexer": "ipython3",
   "version": "3.7.7"
  }
 },
 "nbformat": 4,
 "nbformat_minor": 2
}
