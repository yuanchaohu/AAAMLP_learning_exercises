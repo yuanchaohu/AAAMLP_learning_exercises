{
 "cells": [
  {
   "cell_type": "markdown",
   "metadata": {},
   "source": [
    "## hyperparameter optimization\n",
    "\n",
    "1. grid search\n",
    "2. randomized search\n",
    "3. pipeline search\n",
    "4. optimization\n",
    "   1. scikit-optimize (i.e. gp_minimize)\n",
    "   2. hyperopt "
   ]
  },
  {
   "cell_type": "code",
   "execution_count": 1,
   "metadata": {},
   "outputs": [],
   "source": [
    "import matplotlib.pyplot as plt\n",
    "import numpy as np \n",
    "import pandas as pd \n",
    "import seaborn as sns \n",
    "\n",
    "from sklearn import datasets\n",
    "from sklearn import manifold\n",
    "\n",
    "%matplotlib inline"
   ]
  },
  {
   "cell_type": "code",
   "execution_count": 2,
   "metadata": {},
   "outputs": [],
   "source": [
    "best_accuracy = 0\n",
    "best_parameters = {\"a\": 0, \"b\": 0, \"c\": 0}\n",
    "\n",
    "for a in range(1, 11):\n",
    "    for b in range(1, 11):\n",
    "        for c in range(1, 11):\n",
    "            model = MODEL(a, b, c)\n",
    "            model.fit(training_data)\n",
    "            preds = model.predict(validation_data)\n",
    "            accuracy = metrics.accuracy_score(targets, preds)\n",
    "            if accuracy > best_accuracy:\n",
    "                best_accuracy = accuracy\n",
    "                best_parameters[\"a\"] = a\n",
    "                best_parameters[\"b\"] = b\n",
    "                best_parameters[\"c\"] = c"
   ]
  },
  {
   "cell_type": "code",
   "execution_count": null,
   "metadata": {},
   "outputs": [],
   "source": []
  }
 ],
 "metadata": {
  "kernelspec": {
   "display_name": "aaamlp",
   "language": "python",
   "name": "python3"
  },
  "language_info": {
   "codemirror_mode": {
    "name": "ipython",
    "version": 3
   },
   "file_extension": ".py",
   "mimetype": "text/x-python",
   "name": "python",
   "nbconvert_exporter": "python",
   "pygments_lexer": "ipython3",
   "version": "3.7.7"
  }
 },
 "nbformat": 4,
 "nbformat_minor": 2
}
