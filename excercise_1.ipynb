{
 "cells": [
  {
   "cell_type": "markdown",
   "metadata": {},
   "source": [
    "#### multi-class classification: there are multiple possibilities of a target, like MNIST\n",
    "#### multi-label classification: one target can have multiple labels, like many objects in one image\n",
    "\n",
    "#### evaluation metrics:\n",
    "1. precision at k (P@k)\n",
    "2. average precision at k (AP@k)\n",
    "3. mean average precision at k (MAP@k)\n",
    "4. log loss"
   ]
  },
  {
   "cell_type": "code",
   "execution_count": 13,
   "metadata": {},
   "outputs": [],
   "source": [
    "import matplotlib.pyplot as plt\n",
    "import numpy as np \n",
    "import pandas as pd \n",
    "import seaborn as sns \n",
    "\n",
    "from sklearn import datasets\n",
    "from sklearn import manifold\n",
    "\n",
    "%matplotlib inline"
   ]
  },
  {
   "cell_type": "code",
   "execution_count": 14,
   "metadata": {},
   "outputs": [],
   "source": [
    "def pk(y_true, y_pred, k):\n",
    "    \"\"\"precision @ k\"\"\"\n",
    "    if k==0:\n",
    "        return 0\n",
    "    \n",
    "    y_pred = y_pred[:k]\n",
    "    pred_set = set(y_pred)\n",
    "    true_set = set(y_true)\n",
    "    common_values = pred_set.intersection(true_set)\n",
    "    return len(common_values)/k"
   ]
  },
  {
   "cell_type": "code",
   "execution_count": 15,
   "metadata": {},
   "outputs": [],
   "source": [
    "def apk(y_true, y_pred, k):\n",
    "    \"\"\"average precision @ k\"\"\"\n",
    "    pk_values = []\n",
    "    for i in range(1, k+1):\n",
    "        pk_values.append(pk(y_true[:i], y_pred[:i], i))\n",
    "    \n",
    "    if len(pk_values)==0:\n",
    "        return 0\n",
    "    return sum(pk_values)/len(pk_values)"
   ]
  },
  {
   "cell_type": "code",
   "execution_count": 16,
   "metadata": {},
   "outputs": [
    {
     "name": "stdout",
     "output_type": "stream",
     "text": [
      "\n",
      "            y_true = [1, 2, 3],\n",
      "            y_pred = [0, 1, 2],\n",
      "            AP@1 = 0.0\n",
      "            \n",
      "\n",
      "            y_true = [1, 2, 3],\n",
      "            y_pred = [0, 1, 2],\n",
      "            AP@2 = 0.25\n",
      "            \n",
      "\n",
      "            y_true = [1, 2, 3],\n",
      "            y_pred = [0, 1, 2],\n",
      "            AP@3 = 0.38888888888888884\n",
      "            \n",
      "\n",
      "            y_true = [0, 2],\n",
      "            y_pred = [1],\n",
      "            AP@1 = 0.0\n",
      "            \n",
      "\n",
      "            y_true = [0, 2],\n",
      "            y_pred = [1],\n",
      "            AP@2 = 0.0\n",
      "            \n",
      "\n",
      "            y_true = [0, 2],\n",
      "            y_pred = [1],\n",
      "            AP@3 = 0.0\n",
      "            \n",
      "\n",
      "            y_true = [1],\n",
      "            y_pred = [0, 2, 3],\n",
      "            AP@1 = 0.0\n",
      "            \n",
      "\n",
      "            y_true = [1],\n",
      "            y_pred = [0, 2, 3],\n",
      "            AP@2 = 0.0\n",
      "            \n",
      "\n",
      "            y_true = [1],\n",
      "            y_pred = [0, 2, 3],\n",
      "            AP@3 = 0.0\n",
      "            \n",
      "\n",
      "            y_true = [2, 3],\n",
      "            y_pred = [2, 3, 4, 0],\n",
      "            AP@1 = 1.0\n",
      "            \n",
      "\n",
      "            y_true = [2, 3],\n",
      "            y_pred = [2, 3, 4, 0],\n",
      "            AP@2 = 1.0\n",
      "            \n",
      "\n",
      "            y_true = [2, 3],\n",
      "            y_pred = [2, 3, 4, 0],\n",
      "            AP@3 = 0.8888888888888888\n",
      "            \n",
      "\n",
      "            y_true = [1, 0],\n",
      "            y_pred = [0, 1, 2],\n",
      "            AP@1 = 0.0\n",
      "            \n",
      "\n",
      "            y_true = [1, 0],\n",
      "            y_pred = [0, 1, 2],\n",
      "            AP@2 = 0.5\n",
      "            \n",
      "\n",
      "            y_true = [1, 0],\n",
      "            y_pred = [0, 1, 2],\n",
      "            AP@3 = 0.5555555555555555\n",
      "            \n",
      "\n",
      "            y_true = [],\n",
      "            y_pred = [0],\n",
      "            AP@1 = 0.0\n",
      "            \n",
      "\n",
      "            y_true = [],\n",
      "            y_pred = [0],\n",
      "            AP@2 = 0.0\n",
      "            \n",
      "\n",
      "            y_true = [],\n",
      "            y_pred = [0],\n",
      "            AP@3 = 0.0\n",
      "            \n"
     ]
    }
   ],
   "source": [
    "y_true = [\n",
    "    [1, 2, 3],\n",
    "    [0, 2],\n",
    "    [1],\n",
    "    [2, 3],\n",
    "    [1, 0],\n",
    "    []\n",
    "]\n",
    "\n",
    "y_pred = [\n",
    "    [0, 1, 2],\n",
    "    [1],\n",
    "    [0, 2, 3],\n",
    "    [2, 3, 4, 0],\n",
    "    [0, 1, 2],\n",
    "    [0]\n",
    "]\n",
    "\n",
    "for i in range(len(y_true)):\n",
    "    for j in range(1, 4):\n",
    "        print(\n",
    "            f\"\"\"\n",
    "            y_true = {y_true[i]},\n",
    "            y_pred = {y_pred[i]},\n",
    "            AP@{j} = {apk(y_true[i], y_pred[i], k=j)}\n",
    "            \"\"\"\n",
    "        )"
   ]
  },
  {
   "cell_type": "code",
   "execution_count": 17,
   "metadata": {},
   "outputs": [],
   "source": [
    "def mapk(y_true, y_pred, k):\n",
    "    \"\"\"mean average precision @ k\"\"\"\n",
    "    apk_values = []\n",
    "    for i in range(len(y_true)):\n",
    "        apk_values.append(apk(y_true[i], y_pred[i], k))\n",
    "    return sum(apk_values)/len(apk_values)"
   ]
  },
  {
   "cell_type": "code",
   "execution_count": 18,
   "metadata": {},
   "outputs": [],
   "source": [
    "y_true = [\n",
    "    [1,2,3],\n",
    "    [0,2],\n",
    "    [1],\n",
    "    [2,3],\n",
    "    [1,0],\n",
    "    []\n",
    "]\n",
    "\n",
    "y_pred = [\n",
    "    [0,1,2],\n",
    "    [1],\n",
    "    [0,2,3],\n",
    "    [2,3,4,0],\n",
    "    [0,1,2],\n",
    "    [0]\n",
    "]"
   ]
  },
  {
   "cell_type": "code",
   "execution_count": 19,
   "metadata": {},
   "outputs": [
    {
     "data": {
      "text/plain": [
       "0.16666666666666666"
      ]
     },
     "execution_count": 19,
     "metadata": {},
     "output_type": "execute_result"
    }
   ],
   "source": [
    "mapk(y_true=y_true, y_pred=y_pred, k=1)"
   ]
  },
  {
   "cell_type": "code",
   "execution_count": 20,
   "metadata": {},
   "outputs": [
    {
     "data": {
      "text/plain": [
       "0.2916666666666667"
      ]
     },
     "execution_count": 20,
     "metadata": {},
     "output_type": "execute_result"
    }
   ],
   "source": [
    "mapk(y_true=y_true, y_pred=y_pred, k=2)"
   ]
  },
  {
   "cell_type": "code",
   "execution_count": 21,
   "metadata": {},
   "outputs": [
    {
     "data": {
      "text/plain": [
       "0.3055555555555555"
      ]
     },
     "execution_count": 21,
     "metadata": {},
     "output_type": "execute_result"
    }
   ],
   "source": [
    "mapk(y_true=y_true, y_pred=y_pred, k=3)"
   ]
  },
  {
   "cell_type": "code",
   "execution_count": 22,
   "metadata": {},
   "outputs": [
    {
     "data": {
      "text/plain": [
       "0.2916666666666667"
      ]
     },
     "execution_count": 22,
     "metadata": {},
     "output_type": "execute_result"
    }
   ],
   "source": [
    "mapk(y_true=y_true, y_pred=y_pred, k=4)"
   ]
  },
  {
   "cell_type": "code",
   "execution_count": 23,
   "metadata": {},
   "outputs": [],
   "source": [
    "def apk(actual, predicted, k=10):\n",
    "    if len(predicted) > k:\n",
    "        predicted = predicted[:k]\n",
    "    \n",
    "    score = 0.0\n",
    "    num_hits = 0.0\n",
    "    for i,p in enumerate(predicted):\n",
    "        if p in actual and p not in predicted[:i]:\n",
    "            num_hits += 1\n",
    "            score += num_hits/(i+1)\n",
    "\n",
    "    if not actual:\n",
    "        return 0.0\n",
    "\n",
    "    return score / min(len(actual), k)"
   ]
  },
  {
   "cell_type": "code",
   "execution_count": 24,
   "metadata": {},
   "outputs": [
    {
     "data": {
      "text/plain": [
       "0.16666666666666666"
      ]
     },
     "execution_count": 24,
     "metadata": {},
     "output_type": "execute_result"
    }
   ],
   "source": [
    "apk(y_true, y_pred, 3)"
   ]
  },
  {
   "cell_type": "markdown",
   "metadata": {},
   "source": [
    "## regression"
   ]
  },
  {
   "cell_type": "markdown",
   "metadata": {},
   "source": [
    "#### error = true_value - predicted_value\n",
    "#### absolute error = |error|\n",
    "#### squared error = (true value - predicted value)^2"
   ]
  },
  {
   "cell_type": "code",
   "execution_count": 27,
   "metadata": {},
   "outputs": [],
   "source": [
    "def mean_absolute_error(y_true, y_pred):\n",
    "    error = 0 \n",
    "    for yt, yp in zip(y_true, y_pred):\n",
    "        error += np.abs(yt-yp)\n",
    "    return error / len(y_true)"
   ]
  },
  {
   "cell_type": "code",
   "execution_count": 28,
   "metadata": {},
   "outputs": [],
   "source": [
    "def mean_squared_error(y_true, y_pred):\n",
    "    error = 0\n",
    "    for yt, yp in zip(y_true, y_pred):\n",
    "        error += (yt-yp)**2\n",
    "    return error/len(y_true)"
   ]
  },
  {
   "cell_type": "markdown",
   "metadata": {},
   "source": [
    "#### RMSE (root mean squared error) = SQRT(mean squared error)\n",
    "\n",
    "#### sqaured logarithmic error --> mean squared logarithmic error\n",
    "#### root mean square logarithmic error (RMSLE)"
   ]
  },
  {
   "cell_type": "code",
   "execution_count": 29,
   "metadata": {},
   "outputs": [],
   "source": [
    "def mean_squared_log_error(y_true, y_pred):\n",
    "    error = 0 \n",
    "    for yt, yp in zip(y_true, y_pred):\n",
    "        error += (np.log(1+yt) - np.log(1+yp))**2\n",
    "    return error / len(y_true)"
   ]
  },
  {
   "cell_type": "markdown",
   "metadata": {},
   "source": [
    "#### precision error = (true value - predicted value) / true value * 100"
   ]
  },
  {
   "cell_type": "code",
   "execution_count": 30,
   "metadata": {},
   "outputs": [],
   "source": [
    "def mean_percentage_error(y_true, y_pred):\n",
    "    error = 0\n",
    "    for yt, yp in zip(y_true, y_pred):\n",
    "        error += (yt-yp)/yt\n",
    "    return error / len(y_true)"
   ]
  },
  {
   "cell_type": "markdown",
   "metadata": {},
   "source": [
    "#### $R^2$: coefficient of determination\n",
    "\n",
    "$$\n",
    "R^2 = 1 - \\frac{\\sum (y_{ti} - y_{pi})^2}{\\sum (y_{ti} - y_{tmean})^2}\n",
    "$$"
   ]
  },
  {
   "cell_type": "code",
   "execution_count": 31,
   "metadata": {},
   "outputs": [],
   "source": [
    "def r2(y_true, y_pred):\n",
    "    mean_true_value = np.mean(y_true)\n",
    "    numerator = 0\n",
    "    denominator = 0 \n",
    "    for yt, yp in zip(y_true, y_pred):\n",
    "        numerator += (yt - yp)**2\n",
    "        denominator += (yt-mean_true_value)**2\n",
    "    ratio = numerator / denominator\n",
    "    return 1 - ratio"
   ]
  },
  {
   "cell_type": "code",
   "execution_count": 32,
   "metadata": {},
   "outputs": [],
   "source": [
    "def mae_np(y_true, y_pred):\n",
    "    return np.mean(np.abs(y_true-y_pred))"
   ]
  },
  {
   "cell_type": "code",
   "execution_count": 33,
   "metadata": {},
   "outputs": [
    {
     "name": "stdout",
     "output_type": "stream",
     "text": [
      "0.33333333333333337\n",
      "0.4444444444444444\n"
     ]
    }
   ],
   "source": [
    "# QWK: quadratic weighted kappa, Cohen's kappa\n",
    "\n",
    "from sklearn import metrics\n",
    "\n",
    "y_true = [1, 2, 3, 1, 2, 3, 1, 2, 3]\n",
    "y_pred = [2, 1, 3, 1, 2, 3, 3, 1, 2]\n",
    "\n",
    "print(metrics.cohen_kappa_score(y_true, y_pred, weights=\"quadratic\"))\n",
    "print(metrics.accuracy_score(y_true, y_pred))"
   ]
  },
  {
   "cell_type": "markdown",
   "metadata": {},
   "source": [
    "#### Matthew's Correlation Coefficient (MCC)\n",
    "\n",
    "$$\n",
    "MCC = \\frac{TP*TN - FP*FN}{\\sqrt{(TP+FP)*(FN+TN)*(FP+TN)*(TP+FN)}}\n",
    "$$"
   ]
  },
  {
   "cell_type": "code",
   "execution_count": 34,
   "metadata": {},
   "outputs": [],
   "source": [
    "def true_positive(y_true, y_pred):\n",
    "    tp = 0\n",
    "    for yt, yp in zip(y_true, y_pred):\n",
    "        if yt==1 and yp==1:\n",
    "            tp += 1\n",
    "    return tp\n",
    "\n",
    "def true_negative(y_true, y_pred):\n",
    "    tn = 0\n",
    "    for yt, yp in zip(y_true, y_pred):\n",
    "        if yt==0 and yp==0:\n",
    "            tn += 1\n",
    "    return tn \n",
    "\n",
    "def false_positive(y_true, y_pred):\n",
    "    fp = 0\n",
    "    for yt, yp in zip(y_true, y_pred):\n",
    "        if yt==0 and yp==1:\n",
    "            fp += 1\n",
    "    return fp\n",
    "\n",
    "def false_negative(y_true, y_pred):\n",
    "    fn = 0\n",
    "    for yt, yp in zip(y_true, y_pred):\n",
    "        if yt==1 and yp==0:\n",
    "            fn += 1\n",
    "    return fn "
   ]
  },
  {
   "cell_type": "code",
   "execution_count": null,
   "metadata": {},
   "outputs": [],
   "source": [
    "def mcc(y_true, y_pred):\n",
    "    tp = true_positive(y_true, y_pred)\n",
    "    tn = true_negative(y_true, y_pred)\n",
    "    fp = false_positive(y_true, y_pred)\n",
    "    fn = false_negative(y_true, y_pred)\n",
    "\n",
    "    numerator = (tp * tn) / (fp * fn)\n",
    "    demoninator = (\n",
    "        (tp + fp) *\n",
    "        (fn + tn) * \n",
    "        (fp + tn) * \n",
    "        (tp + fn)\n",
    "    )\n",
    "    return numerator / demoninator**0.5"
   ]
  }
 ],
 "metadata": {
  "kernelspec": {
   "display_name": "aaamlp",
   "language": "python",
   "name": "python3"
  },
  "language_info": {
   "codemirror_mode": {
    "name": "ipython",
    "version": 3
   },
   "file_extension": ".py",
   "mimetype": "text/x-python",
   "name": "python",
   "nbconvert_exporter": "python",
   "pygments_lexer": "ipython3",
   "version": "3.7.7"
  }
 },
 "nbformat": 4,
 "nbformat_minor": 2
}
